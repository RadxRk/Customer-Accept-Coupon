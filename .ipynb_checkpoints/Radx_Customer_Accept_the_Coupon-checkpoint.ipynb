{
 "cells": [
  {
   "cell_type": "markdown",
   "metadata": {},
   "source": [
    "### Will a Customer Accept the Coupon?\n",
    "\n",
    "**Context**\n",
    "\n",
    "Imagine driving through town and a coupon is delivered to your cell phone for a restaraunt near where you are driving. Would you accept that coupon and take a short detour to the restaraunt? Would you accept the coupon but use it on a sunbsequent trip? Would you ignore the coupon entirely? What if the coupon was for a bar instead of a restaraunt? What about a coffee house? Would you accept a bar coupon with a minor passenger in the car? What about if it was just you and your partner in the car? Would weather impact the rate of acceptance? What about the time of day?\n",
    "\n",
    "Obviously, proximity to the business is a factor on whether the coupon is delivered to the driver or not, but what are the factors that determine whether a driver accepts the coupon once it is delivered to them? How would you determine whether a driver is likely to accept a coupon?\n",
    "\n",
    "**Overview**\n",
    "\n",
    "The goal of this project is to use what you know about visualizations and probability distributions to distinguish between customers who accepted a driving coupon versus those that did not.\n",
    "\n",
    "**Data**\n",
    "\n",
    "This data comes to us from the UCI Machine Learning repository and was collected via a survey on Amazon Mechanical Turk. The survey describes different driving scenarios including the destination, current time, weather, passenger, etc., and then ask the person whether he will accept the coupon if he is the driver. Answers that the user will drive there ‘right away’ or ‘later before the coupon expires’ are labeled as ‘Y = 1’ and answers ‘no, I do not want the coupon’ are labeled as ‘Y = 0’.  There are five different types of coupons -- less expensive restaurants (under \\\\$20), coffee houses, carry out & take away, bar, and more expensive restaurants (\\\\$20 - \\\\$50). "
   ]
  },
  {
   "cell_type": "markdown",
   "metadata": {},
   "source": [
    "**Deliverables**\n",
    "\n",
    "Your final product should be a brief report that highlights the differences between customers who did and did not accept the coupons.  To explore the data you will utilize your knowledge of plotting, statistical summaries, and visualization using Python. You will publish your findings in a public facing github repository as your first portfolio piece. \n",
    "\n",
    "\n",
    "\n"
   ]
  },
  {
   "cell_type": "markdown",
   "metadata": {},
   "source": [
    "### Data Description\n",
    "Keep in mind that these values mentioned below are average values.\n",
    "\n",
    "The attributes of this data set include:\n",
    "1. User attributes\n",
    "    -  Gender: male, female\n",
    "    -  Age: below 21, 21 to 25, 26 to 30, etc.\n",
    "    -  Marital Status: single, married partner, unmarried partner, or widowed\n",
    "    -  Number of children: 0, 1, or more than 1\n",
    "    -  Education: high school, bachelors degree, associates degree, or graduate degree\n",
    "    -  Occupation: architecture & engineering, business & financial, etc.\n",
    "    -  Annual income: less than \\\\$12500, \\\\$12500 - \\\\$24999, \\\\$25000 - \\\\$37499, etc.\n",
    "    -  Number of times that he/she goes to a bar: 0, less than 1, 1 to 3, 4 to 8 or greater than 8\n",
    "    -  Number of times that he/she buys takeaway food: 0, less than 1, 1 to 3, 4 to 8 or greater\n",
    "    than 8\n",
    "    -  Number of times that he/she goes to a coffee house: 0, less than 1, 1 to 3, 4 to 8 or\n",
    "    greater than 8\n",
    "    -  Number of times that he/she eats at a restaurant with average expense less than \\\\$20 per\n",
    "    person: 0, less than 1, 1 to 3, 4 to 8 or greater than 8\n",
    "    -  Number of times that he/she goes to a bar: 0, less than 1, 1 to 3, 4 to 8 or greater than 8\n",
    "    \n",
    "\n",
    "2. Contextual attributes\n",
    "    - Driving destination: home, work, or no urgent destination\n",
    "    - Location of user, coupon and destination: we provide a map to show the geographical\n",
    "    location of the user, destination, and the venue, and we mark the distance between each\n",
    "    two places with time of driving. The user can see whether the venue is in the same\n",
    "    direction as the destination.\n",
    "    - Weather: sunny, rainy, or snowy\n",
    "    - Temperature: 30F, 55F, or 80F\n",
    "    - Time: 10AM, 2PM, or 6PM\n",
    "    - Passenger: alone, partner, kid(s), or friend(s)\n",
    "\n",
    "\n",
    "3. Coupon attributes\n",
    "    - time before it expires: 2 hours or one day"
   ]
  },
  {
   "cell_type": "code",
   "execution_count": 85,
   "metadata": {},
   "outputs": [],
   "source": [
    "import matplotlib.pyplot as plt\n",
    "import seaborn as sns\n",
    "import pandas as pd\n",
    "import numpy as np"
   ]
  },
  {
   "cell_type": "markdown",
   "metadata": {},
   "source": [
    "### Problems\n",
    "\n",
    "Use the prompts below to get started with your data analysis.  \n",
    "\n",
    "1. Read in the `coupons.csv` file."
   ]
  },
  {
   "cell_type": "code",
   "execution_count": 86,
   "metadata": {},
   "outputs": [],
   "source": [
    "coupons_data = pd.read_csv('data/coupons.csv')\n",
    "\n",
    "data = pd.read_csv('data/coupons.csv')"
   ]
  },
  {
   "cell_type": "code",
   "execution_count": 87,
   "metadata": {},
   "outputs": [
    {
     "data": {
      "text/html": [
       "<div>\n",
       "<style scoped>\n",
       "    .dataframe tbody tr th:only-of-type {\n",
       "        vertical-align: middle;\n",
       "    }\n",
       "\n",
       "    .dataframe tbody tr th {\n",
       "        vertical-align: top;\n",
       "    }\n",
       "\n",
       "    .dataframe thead th {\n",
       "        text-align: right;\n",
       "    }\n",
       "</style>\n",
       "<table border=\"1\" class=\"dataframe\">\n",
       "  <thead>\n",
       "    <tr style=\"text-align: right;\">\n",
       "      <th></th>\n",
       "      <th>destination</th>\n",
       "      <th>passanger</th>\n",
       "      <th>weather</th>\n",
       "      <th>temperature</th>\n",
       "      <th>time</th>\n",
       "      <th>coupon</th>\n",
       "      <th>expiration</th>\n",
       "      <th>gender</th>\n",
       "      <th>age</th>\n",
       "      <th>maritalStatus</th>\n",
       "      <th>...</th>\n",
       "      <th>CoffeeHouse</th>\n",
       "      <th>CarryAway</th>\n",
       "      <th>RestaurantLessThan20</th>\n",
       "      <th>Restaurant20To50</th>\n",
       "      <th>toCoupon_GEQ5min</th>\n",
       "      <th>toCoupon_GEQ15min</th>\n",
       "      <th>toCoupon_GEQ25min</th>\n",
       "      <th>direction_same</th>\n",
       "      <th>direction_opp</th>\n",
       "      <th>Y</th>\n",
       "    </tr>\n",
       "  </thead>\n",
       "  <tbody>\n",
       "    <tr>\n",
       "      <th>0</th>\n",
       "      <td>No Urgent Place</td>\n",
       "      <td>Alone</td>\n",
       "      <td>Sunny</td>\n",
       "      <td>55</td>\n",
       "      <td>2PM</td>\n",
       "      <td>Restaurant(&lt;20)</td>\n",
       "      <td>1d</td>\n",
       "      <td>Female</td>\n",
       "      <td>21</td>\n",
       "      <td>Unmarried partner</td>\n",
       "      <td>...</td>\n",
       "      <td>never</td>\n",
       "      <td>NaN</td>\n",
       "      <td>4~8</td>\n",
       "      <td>1~3</td>\n",
       "      <td>1</td>\n",
       "      <td>0</td>\n",
       "      <td>0</td>\n",
       "      <td>0</td>\n",
       "      <td>1</td>\n",
       "      <td>1</td>\n",
       "    </tr>\n",
       "    <tr>\n",
       "      <th>1</th>\n",
       "      <td>No Urgent Place</td>\n",
       "      <td>Friend(s)</td>\n",
       "      <td>Sunny</td>\n",
       "      <td>80</td>\n",
       "      <td>10AM</td>\n",
       "      <td>Coffee House</td>\n",
       "      <td>2h</td>\n",
       "      <td>Female</td>\n",
       "      <td>21</td>\n",
       "      <td>Unmarried partner</td>\n",
       "      <td>...</td>\n",
       "      <td>never</td>\n",
       "      <td>NaN</td>\n",
       "      <td>4~8</td>\n",
       "      <td>1~3</td>\n",
       "      <td>1</td>\n",
       "      <td>0</td>\n",
       "      <td>0</td>\n",
       "      <td>0</td>\n",
       "      <td>1</td>\n",
       "      <td>0</td>\n",
       "    </tr>\n",
       "    <tr>\n",
       "      <th>2</th>\n",
       "      <td>No Urgent Place</td>\n",
       "      <td>Friend(s)</td>\n",
       "      <td>Sunny</td>\n",
       "      <td>80</td>\n",
       "      <td>10AM</td>\n",
       "      <td>Carry out &amp; Take away</td>\n",
       "      <td>2h</td>\n",
       "      <td>Female</td>\n",
       "      <td>21</td>\n",
       "      <td>Unmarried partner</td>\n",
       "      <td>...</td>\n",
       "      <td>never</td>\n",
       "      <td>NaN</td>\n",
       "      <td>4~8</td>\n",
       "      <td>1~3</td>\n",
       "      <td>1</td>\n",
       "      <td>1</td>\n",
       "      <td>0</td>\n",
       "      <td>0</td>\n",
       "      <td>1</td>\n",
       "      <td>1</td>\n",
       "    </tr>\n",
       "    <tr>\n",
       "      <th>3</th>\n",
       "      <td>No Urgent Place</td>\n",
       "      <td>Friend(s)</td>\n",
       "      <td>Sunny</td>\n",
       "      <td>80</td>\n",
       "      <td>2PM</td>\n",
       "      <td>Coffee House</td>\n",
       "      <td>2h</td>\n",
       "      <td>Female</td>\n",
       "      <td>21</td>\n",
       "      <td>Unmarried partner</td>\n",
       "      <td>...</td>\n",
       "      <td>never</td>\n",
       "      <td>NaN</td>\n",
       "      <td>4~8</td>\n",
       "      <td>1~3</td>\n",
       "      <td>1</td>\n",
       "      <td>1</td>\n",
       "      <td>0</td>\n",
       "      <td>0</td>\n",
       "      <td>1</td>\n",
       "      <td>0</td>\n",
       "    </tr>\n",
       "    <tr>\n",
       "      <th>4</th>\n",
       "      <td>No Urgent Place</td>\n",
       "      <td>Friend(s)</td>\n",
       "      <td>Sunny</td>\n",
       "      <td>80</td>\n",
       "      <td>2PM</td>\n",
       "      <td>Coffee House</td>\n",
       "      <td>1d</td>\n",
       "      <td>Female</td>\n",
       "      <td>21</td>\n",
       "      <td>Unmarried partner</td>\n",
       "      <td>...</td>\n",
       "      <td>never</td>\n",
       "      <td>NaN</td>\n",
       "      <td>4~8</td>\n",
       "      <td>1~3</td>\n",
       "      <td>1</td>\n",
       "      <td>1</td>\n",
       "      <td>0</td>\n",
       "      <td>0</td>\n",
       "      <td>1</td>\n",
       "      <td>0</td>\n",
       "    </tr>\n",
       "  </tbody>\n",
       "</table>\n",
       "<p>5 rows × 26 columns</p>\n",
       "</div>"
      ],
      "text/plain": [
       "       destination  passanger weather  temperature  time  \\\n",
       "0  No Urgent Place      Alone   Sunny           55   2PM   \n",
       "1  No Urgent Place  Friend(s)   Sunny           80  10AM   \n",
       "2  No Urgent Place  Friend(s)   Sunny           80  10AM   \n",
       "3  No Urgent Place  Friend(s)   Sunny           80   2PM   \n",
       "4  No Urgent Place  Friend(s)   Sunny           80   2PM   \n",
       "\n",
       "                  coupon expiration  gender age      maritalStatus  ...  \\\n",
       "0        Restaurant(<20)         1d  Female  21  Unmarried partner  ...   \n",
       "1           Coffee House         2h  Female  21  Unmarried partner  ...   \n",
       "2  Carry out & Take away         2h  Female  21  Unmarried partner  ...   \n",
       "3           Coffee House         2h  Female  21  Unmarried partner  ...   \n",
       "4           Coffee House         1d  Female  21  Unmarried partner  ...   \n",
       "\n",
       "   CoffeeHouse CarryAway RestaurantLessThan20 Restaurant20To50  \\\n",
       "0        never       NaN                  4~8              1~3   \n",
       "1        never       NaN                  4~8              1~3   \n",
       "2        never       NaN                  4~8              1~3   \n",
       "3        never       NaN                  4~8              1~3   \n",
       "4        never       NaN                  4~8              1~3   \n",
       "\n",
       "  toCoupon_GEQ5min toCoupon_GEQ15min toCoupon_GEQ25min direction_same  \\\n",
       "0                1                 0                 0              0   \n",
       "1                1                 0                 0              0   \n",
       "2                1                 1                 0              0   \n",
       "3                1                 1                 0              0   \n",
       "4                1                 1                 0              0   \n",
       "\n",
       "  direction_opp  Y  \n",
       "0             1  1  \n",
       "1             1  0  \n",
       "2             1  1  \n",
       "3             1  0  \n",
       "4             1  0  \n",
       "\n",
       "[5 rows x 26 columns]"
      ]
     },
     "execution_count": 87,
     "metadata": {},
     "output_type": "execute_result"
    }
   ],
   "source": [
    "coupons_data.head()\n",
    "\n",
    "data.head()"
   ]
  },
  {
   "cell_type": "markdown",
   "metadata": {},
   "source": [
    "2. Investigate the dataset for missing or problematic data."
   ]
  },
  {
   "cell_type": "code",
   "execution_count": 88,
   "metadata": {},
   "outputs": [
    {
     "name": "stdout",
     "output_type": "stream",
     "text": [
      "<class 'pandas.core.frame.DataFrame'>\n",
      "RangeIndex: 12684 entries, 0 to 12683\n",
      "Data columns (total 26 columns):\n",
      " #   Column                Non-Null Count  Dtype \n",
      "---  ------                --------------  ----- \n",
      " 0   destination           12684 non-null  object\n",
      " 1   passanger             12684 non-null  object\n",
      " 2   weather               12684 non-null  object\n",
      " 3   temperature           12684 non-null  int64 \n",
      " 4   time                  12684 non-null  object\n",
      " 5   coupon                12684 non-null  object\n",
      " 6   expiration            12684 non-null  object\n",
      " 7   gender                12684 non-null  object\n",
      " 8   age                   12684 non-null  object\n",
      " 9   maritalStatus         12684 non-null  object\n",
      " 10  has_children          12684 non-null  int64 \n",
      " 11  education             12684 non-null  object\n",
      " 12  occupation            12684 non-null  object\n",
      " 13  income                12684 non-null  object\n",
      " 14  car                   108 non-null    object\n",
      " 15  Bar                   12577 non-null  object\n",
      " 16  CoffeeHouse           12467 non-null  object\n",
      " 17  CarryAway             12533 non-null  object\n",
      " 18  RestaurantLessThan20  12554 non-null  object\n",
      " 19  Restaurant20To50      12495 non-null  object\n",
      " 20  toCoupon_GEQ5min      12684 non-null  int64 \n",
      " 21  toCoupon_GEQ15min     12684 non-null  int64 \n",
      " 22  toCoupon_GEQ25min     12684 non-null  int64 \n",
      " 23  direction_same        12684 non-null  int64 \n",
      " 24  direction_opp         12684 non-null  int64 \n",
      " 25  Y                     12684 non-null  int64 \n",
      "dtypes: int64(8), object(18)\n",
      "memory usage: 2.5+ MB\n"
     ]
    }
   ],
   "source": [
    "# Checking data types\n",
    "coupons_data.info();"
   ]
  },
  {
   "cell_type": "code",
   "execution_count": 89,
   "metadata": {},
   "outputs": [
    {
     "data": {
      "text/html": [
       "<div>\n",
       "<style scoped>\n",
       "    .dataframe tbody tr th:only-of-type {\n",
       "        vertical-align: middle;\n",
       "    }\n",
       "\n",
       "    .dataframe tbody tr th {\n",
       "        vertical-align: top;\n",
       "    }\n",
       "\n",
       "    .dataframe thead th {\n",
       "        text-align: right;\n",
       "    }\n",
       "</style>\n",
       "<table border=\"1\" class=\"dataframe\">\n",
       "  <thead>\n",
       "    <tr style=\"text-align: right;\">\n",
       "      <th></th>\n",
       "      <th>temperature</th>\n",
       "      <th>has_children</th>\n",
       "      <th>toCoupon_GEQ5min</th>\n",
       "      <th>toCoupon_GEQ15min</th>\n",
       "      <th>toCoupon_GEQ25min</th>\n",
       "      <th>direction_same</th>\n",
       "      <th>direction_opp</th>\n",
       "      <th>Y</th>\n",
       "    </tr>\n",
       "  </thead>\n",
       "  <tbody>\n",
       "    <tr>\n",
       "      <th>count</th>\n",
       "      <td>12684.000000</td>\n",
       "      <td>12684.000000</td>\n",
       "      <td>12684.0</td>\n",
       "      <td>12684.000000</td>\n",
       "      <td>12684.000000</td>\n",
       "      <td>12684.000000</td>\n",
       "      <td>12684.000000</td>\n",
       "      <td>12684.000000</td>\n",
       "    </tr>\n",
       "    <tr>\n",
       "      <th>mean</th>\n",
       "      <td>63.301798</td>\n",
       "      <td>0.414144</td>\n",
       "      <td>1.0</td>\n",
       "      <td>0.561495</td>\n",
       "      <td>0.119126</td>\n",
       "      <td>0.214759</td>\n",
       "      <td>0.785241</td>\n",
       "      <td>0.568433</td>\n",
       "    </tr>\n",
       "    <tr>\n",
       "      <th>std</th>\n",
       "      <td>19.154486</td>\n",
       "      <td>0.492593</td>\n",
       "      <td>0.0</td>\n",
       "      <td>0.496224</td>\n",
       "      <td>0.323950</td>\n",
       "      <td>0.410671</td>\n",
       "      <td>0.410671</td>\n",
       "      <td>0.495314</td>\n",
       "    </tr>\n",
       "    <tr>\n",
       "      <th>min</th>\n",
       "      <td>30.000000</td>\n",
       "      <td>0.000000</td>\n",
       "      <td>1.0</td>\n",
       "      <td>0.000000</td>\n",
       "      <td>0.000000</td>\n",
       "      <td>0.000000</td>\n",
       "      <td>0.000000</td>\n",
       "      <td>0.000000</td>\n",
       "    </tr>\n",
       "    <tr>\n",
       "      <th>25%</th>\n",
       "      <td>55.000000</td>\n",
       "      <td>0.000000</td>\n",
       "      <td>1.0</td>\n",
       "      <td>0.000000</td>\n",
       "      <td>0.000000</td>\n",
       "      <td>0.000000</td>\n",
       "      <td>1.000000</td>\n",
       "      <td>0.000000</td>\n",
       "    </tr>\n",
       "    <tr>\n",
       "      <th>50%</th>\n",
       "      <td>80.000000</td>\n",
       "      <td>0.000000</td>\n",
       "      <td>1.0</td>\n",
       "      <td>1.000000</td>\n",
       "      <td>0.000000</td>\n",
       "      <td>0.000000</td>\n",
       "      <td>1.000000</td>\n",
       "      <td>1.000000</td>\n",
       "    </tr>\n",
       "    <tr>\n",
       "      <th>75%</th>\n",
       "      <td>80.000000</td>\n",
       "      <td>1.000000</td>\n",
       "      <td>1.0</td>\n",
       "      <td>1.000000</td>\n",
       "      <td>0.000000</td>\n",
       "      <td>0.000000</td>\n",
       "      <td>1.000000</td>\n",
       "      <td>1.000000</td>\n",
       "    </tr>\n",
       "    <tr>\n",
       "      <th>max</th>\n",
       "      <td>80.000000</td>\n",
       "      <td>1.000000</td>\n",
       "      <td>1.0</td>\n",
       "      <td>1.000000</td>\n",
       "      <td>1.000000</td>\n",
       "      <td>1.000000</td>\n",
       "      <td>1.000000</td>\n",
       "      <td>1.000000</td>\n",
       "    </tr>\n",
       "  </tbody>\n",
       "</table>\n",
       "</div>"
      ],
      "text/plain": [
       "        temperature  has_children  toCoupon_GEQ5min  toCoupon_GEQ15min  \\\n",
       "count  12684.000000  12684.000000           12684.0       12684.000000   \n",
       "mean      63.301798      0.414144               1.0           0.561495   \n",
       "std       19.154486      0.492593               0.0           0.496224   \n",
       "min       30.000000      0.000000               1.0           0.000000   \n",
       "25%       55.000000      0.000000               1.0           0.000000   \n",
       "50%       80.000000      0.000000               1.0           1.000000   \n",
       "75%       80.000000      1.000000               1.0           1.000000   \n",
       "max       80.000000      1.000000               1.0           1.000000   \n",
       "\n",
       "       toCoupon_GEQ25min  direction_same  direction_opp             Y  \n",
       "count       12684.000000    12684.000000   12684.000000  12684.000000  \n",
       "mean            0.119126        0.214759       0.785241      0.568433  \n",
       "std             0.323950        0.410671       0.410671      0.495314  \n",
       "min             0.000000        0.000000       0.000000      0.000000  \n",
       "25%             0.000000        0.000000       1.000000      0.000000  \n",
       "50%             0.000000        0.000000       1.000000      1.000000  \n",
       "75%             0.000000        0.000000       1.000000      1.000000  \n",
       "max             1.000000        1.000000       1.000000      1.000000  "
      ]
     },
     "execution_count": 89,
     "metadata": {},
     "output_type": "execute_result"
    }
   ],
   "source": [
    "# Check on the data distribution \n",
    "coupons_data.describe()"
   ]
  },
  {
   "cell_type": "markdown",
   "metadata": {},
   "source": [
    "#### Data is very small dataset and it the responses to the coupon is not distributed well. As you see the rejection data is only in 25%"
   ]
  },
  {
   "cell_type": "code",
   "execution_count": null,
   "metadata": {},
   "outputs": [],
   "source": [
    " "
   ]
  },
  {
   "cell_type": "code",
   "execution_count": 90,
   "metadata": {
    "scrolled": true
   },
   "outputs": [
    {
     "name": "stdout",
     "output_type": "stream",
     "text": [
      "destination --> ['No Urgent Place' 'Home' 'Work']\n",
      "passanger --> ['Alone' 'Friend(s)' 'Kid(s)' 'Partner']\n",
      "weather --> ['Sunny' 'Rainy' 'Snowy']\n",
      "temperature --> [55 80 30]\n",
      "time --> ['2PM' '10AM' '6PM' '7AM' '10PM']\n",
      "coupon --> ['Restaurant(<20)' 'Coffee House' 'Carry out & Take away' 'Bar'\n",
      " 'Restaurant(20-50)']\n",
      "expiration --> ['1d' '2h']\n",
      "gender --> ['Female' 'Male']\n",
      "age --> ['21' '46' '26' '31' '41' '50plus' '36' 'below21']\n",
      "maritalStatus --> ['Unmarried partner' 'Single' 'Married partner' 'Divorced' 'Widowed']\n",
      "has_children --> [1 0]\n",
      "education --> ['Some college - no degree' 'Bachelors degree' 'Associates degree'\n",
      " 'High School Graduate' 'Graduate degree (Masters or Doctorate)'\n",
      " 'Some High School']\n",
      "occupation --> ['Unemployed' 'Architecture & Engineering' 'Student'\n",
      " 'Education&Training&Library' 'Healthcare Support'\n",
      " 'Healthcare Practitioners & Technical' 'Sales & Related' 'Management'\n",
      " 'Arts Design Entertainment Sports & Media' 'Computer & Mathematical'\n",
      " 'Life Physical Social Science' 'Personal Care & Service'\n",
      " 'Community & Social Services' 'Office & Administrative Support'\n",
      " 'Construction & Extraction' 'Legal' 'Retired'\n",
      " 'Installation Maintenance & Repair' 'Transportation & Material Moving'\n",
      " 'Business & Financial' 'Protective Service'\n",
      " 'Food Preparation & Serving Related' 'Production Occupations'\n",
      " 'Building & Grounds Cleaning & Maintenance' 'Farming Fishing & Forestry']\n",
      "income --> ['$37500 - $49999' '$62500 - $74999' '$12500 - $24999' '$75000 - $87499'\n",
      " '$50000 - $62499' '$25000 - $37499' '$100000 or More' '$87500 - $99999'\n",
      " 'Less than $12500']\n",
      "car --> [nan 'Scooter and motorcycle' 'crossover' 'Mazda5' 'do not drive'\n",
      " 'Car that is too old to install Onstar :D']\n",
      "Bar --> ['never' 'less1' '1~3' 'gt8' nan '4~8']\n",
      "CoffeeHouse --> ['never' 'less1' '4~8' '1~3' 'gt8' nan]\n",
      "CarryAway --> [nan '4~8' '1~3' 'gt8' 'less1' 'never']\n",
      "RestaurantLessThan20 --> ['4~8' '1~3' 'less1' 'gt8' nan 'never']\n",
      "Restaurant20To50 --> ['1~3' 'less1' 'never' 'gt8' '4~8' nan]\n",
      "toCoupon_GEQ5min --> [1]\n",
      "toCoupon_GEQ15min --> [0 1]\n",
      "toCoupon_GEQ25min --> [0 1]\n",
      "direction_same --> [0 1]\n",
      "direction_opp --> [1 0]\n",
      "Y --> [1 0]\n"
     ]
    }
   ],
   "source": [
    "#Find the unique values in each column\n",
    "for col in coupons_data.columns:\n",
    "    print(col,\"-->\",coupons_data[col].unique())"
   ]
  },
  {
   "cell_type": "markdown",
   "metadata": {},
   "source": [
    "3. Decide what to do about your missing data -- drop, replace, other..."
   ]
  },
  {
   "cell_type": "code",
   "execution_count": 91,
   "metadata": {},
   "outputs": [
    {
     "data": {
      "text/plain": [
       "destination              0.000000\n",
       "passanger                0.000000\n",
       "weather                  0.000000\n",
       "temperature              0.000000\n",
       "time                     0.000000\n",
       "coupon                   0.000000\n",
       "expiration               0.000000\n",
       "gender                   0.000000\n",
       "age                      0.000000\n",
       "maritalStatus            0.000000\n",
       "has_children             0.000000\n",
       "education                0.000000\n",
       "occupation               0.000000\n",
       "income                   0.000000\n",
       "car                     99.148534\n",
       "Bar                      0.843582\n",
       "CoffeeHouse              1.710817\n",
       "CarryAway                1.190476\n",
       "RestaurantLessThan20     1.024913\n",
       "Restaurant20To50         1.490066\n",
       "toCoupon_GEQ5min         0.000000\n",
       "toCoupon_GEQ15min        0.000000\n",
       "toCoupon_GEQ25min        0.000000\n",
       "direction_same           0.000000\n",
       "direction_opp            0.000000\n",
       "Y                        0.000000\n",
       "dtype: float64"
      ]
     },
     "execution_count": 91,
     "metadata": {},
     "output_type": "execute_result"
    }
   ],
   "source": [
    "#Finding missing/Null/NaN values\n",
    "coupons_data.isnull().sum()/coupons_data.shape[0]*100 \n"
   ]
  },
  {
   "cell_type": "markdown",
   "metadata": {},
   "source": [
    "##### Car attribute  is missing 99% of data and needs to be removed.\n",
    "##### Bar,CoffeeHouse,CarryAway,RestaurantLessThan20,Restaurant20To50 columns have 1% of null records and needs to replaced with 'Nothing'"
   ]
  },
  {
   "cell_type": "code",
   "execution_count": 92,
   "metadata": {},
   "outputs": [
    {
     "data": {
      "text/plain": [
       "Index(['destination', 'passanger', 'weather', 'temperature', 'time', 'coupon',\n",
       "       'expiration', 'gender', 'age', 'maritalStatus', 'has_children',\n",
       "       'education', 'occupation', 'income', 'Bar', 'CoffeeHouse', 'CarryAway',\n",
       "       'RestaurantLessThan20', 'Restaurant20To50', 'toCoupon_GEQ5min',\n",
       "       'toCoupon_GEQ15min', 'toCoupon_GEQ25min', 'direction_same',\n",
       "       'direction_opp', 'Y'],\n",
       "      dtype='object')"
      ]
     },
     "execution_count": 92,
     "metadata": {},
     "output_type": "execute_result"
    }
   ],
   "source": [
    "# Droping the car column\n",
    "coupons_data=coupons_data.drop('car',axis=1)\n",
    "coupons_data.columns"
   ]
  },
  {
   "cell_type": "code",
   "execution_count": 93,
   "metadata": {},
   "outputs": [
    {
     "data": {
      "text/plain": [
       "False    12610\n",
       "True        74\n",
       "dtype: int64"
      ]
     },
     "execution_count": 93,
     "metadata": {},
     "output_type": "execute_result"
    }
   ],
   "source": [
    "#check for duplicates\n",
    "coupons_data.duplicated().value_counts()"
   ]
  },
  {
   "cell_type": "code",
   "execution_count": 95,
   "metadata": {},
   "outputs": [],
   "source": [
    "#Remove the duplicates\n",
    "coupons_data=coupons_data.drop_duplicates()"
   ]
  },
  {
   "cell_type": "code",
   "execution_count": 67,
   "metadata": {},
   "outputs": [
    {
     "data": {
      "text/plain": [
       "False    12610\n",
       "dtype: int64"
      ]
     },
     "execution_count": 67,
     "metadata": {},
     "output_type": "execute_result"
    }
   ],
   "source": [
    "#Checking the duplicates are removed\n",
    "coupons_data.duplicated().value_counts()"
   ]
  },
  {
   "cell_type": "code",
   "execution_count": 244,
   "metadata": {},
   "outputs": [
    {
     "data": {
      "text/plain": [
       "destination             0.0\n",
       "passanger               0.0\n",
       "weather                 0.0\n",
       "temperature             0.0\n",
       "time                    0.0\n",
       "coupon                  0.0\n",
       "expiration              0.0\n",
       "gender                  0.0\n",
       "age                     0.0\n",
       "maritalStatus           0.0\n",
       "has_children            0.0\n",
       "education               0.0\n",
       "occupation              0.0\n",
       "income                  0.0\n",
       "Bar                     0.0\n",
       "CoffeeHouse             0.0\n",
       "CarryAway               0.0\n",
       "RestaurantLessThan20    0.0\n",
       "Restaurant20To50        0.0\n",
       "direction_same          0.0\n",
       "direction_opp           0.0\n",
       "Y                       0.0\n",
       "drive_to_coupon         0.0\n",
       "dtype: float64"
      ]
     },
     "execution_count": 244,
     "metadata": {},
     "output_type": "execute_result"
    }
   ],
   "source": [
    "# Fill NaN/Null with Nothing for the columns \"CarryAway\",\"CoffeeHouse\",\"RestaurantLessThan20\",\"Restaurant20To50\",\"Bar\"\n",
    "coupons_data[\"CarryAway\"].fillna(\"Nothing\", inplace=True)\n",
    "coupons_data[\"CoffeeHouse\"].fillna(\"Nothing\", inplace=True)\n",
    "coupons_data[\"RestaurantLessThan20\"].fillna(\"Nothing\", inplace=True)\n",
    "coupons_data[\"Restaurant20To50\"].fillna(\"Nothing\", inplace=True)\n",
    "coupons_data[\"Bar\"].fillna(\"Nothing\", inplace=True)\n",
    "# Check if the NaN/Null are removed\n",
    "coupons_data.isnull().sum()/coupons_data.shape[0]*100 "
   ]
  },
  {
   "cell_type": "code",
   "execution_count": 98,
   "metadata": {},
   "outputs": [
    {
     "data": {
      "text/plain": [
       "80    6475\n",
       "55    3830\n",
       "30    2305\n",
       "Name: temperature, dtype: int64"
      ]
     },
     "execution_count": 98,
     "metadata": {},
     "output_type": "execute_result"
    }
   ],
   "source": [
    "# Few of the columns like temperature,income,CarryAway,RestaurantLessThan20,Restaurant20To50,toCoupon_GEQ5min,toCoupon_GEQ15min,toCoupon_GEQ25min\n",
    "# can be combined\n",
    "coupons_data['temperature'].value_counts()\n",
    "\n"
   ]
  },
  {
   "cell_type": "code",
   "execution_count": 99,
   "metadata": {},
   "outputs": [
    {
     "data": {
      "text/plain": [
       "High      6475\n",
       "Low       3830\n",
       "Medium    2305\n",
       "Name: temperature, dtype: int64"
      ]
     },
     "execution_count": 99,
     "metadata": {},
     "output_type": "execute_result"
    }
   ],
   "source": [
    "# temperature\n",
    "temperature_mapping = {\n",
    "    55:'Low',\n",
    "    80:'High', \n",
    "    30:'Medium'\n",
    "};\n",
    "coupons_data['temperature'] = coupons_data['temperature'].map(temperature_mapping)\n",
    "coupons_data[\"temperature\"].value_counts() \n"
   ]
  },
  {
   "cell_type": "code",
   "execution_count": 100,
   "metadata": {},
   "outputs": [
    {
     "data": {
      "text/plain": [
       "1~3        4645\n",
       "4~8        4242\n",
       "less1      1849\n",
       "gt8        1572\n",
       "never       152\n",
       "Nothing     150\n",
       "Name: CarryAway, dtype: int64"
      ]
     },
     "execution_count": 100,
     "metadata": {},
     "output_type": "execute_result"
    }
   ],
   "source": [
    "coupons_data[\"CarryAway\"].value_counts() "
   ]
  },
  {
   "cell_type": "code",
   "execution_count": 102,
   "metadata": {},
   "outputs": [
    {
     "data": {
      "text/plain": [
       "2    4645\n",
       "6    4242\n",
       "1    1849\n",
       "9    1572\n",
       "0     302\n",
       "Name: CarryAway, dtype: int64"
      ]
     },
     "execution_count": 102,
     "metadata": {},
     "output_type": "execute_result"
    }
   ],
   "source": [
    "# CarryAway: converting the carryaway arttibute to the average so it can be replaced to a single value \n",
    "CarryAway_mapping = {\n",
    "    'less1': 1,\n",
    "    '1~3':2,\n",
    "    '4~8':6, \n",
    "    'gt8':9,\n",
    "    'never':0,\n",
    "    'Nothing':0\n",
    "};\n",
    "coupons_data['CarryAway'] = coupons_data['CarryAway'].map(CarryAway_mapping);\n",
    "coupons_data[\"CarryAway\"].value_counts() "
   ]
  },
  {
   "cell_type": "code",
   "execution_count": 103,
   "metadata": {},
   "outputs": [
    {
     "data": {
      "text/plain": [
       "1~3        5356\n",
       "4~8        3553\n",
       "less1      2071\n",
       "gt8        1282\n",
       "never       219\n",
       "Nothing     129\n",
       "Name: RestaurantLessThan20, dtype: int64"
      ]
     },
     "execution_count": 103,
     "metadata": {},
     "output_type": "execute_result"
    }
   ],
   "source": [
    "#RestaurantLessThan20 \n",
    "coupons_data[\"RestaurantLessThan20\"].value_counts() "
   ]
  },
  {
   "cell_type": "code",
   "execution_count": 104,
   "metadata": {},
   "outputs": [
    {
     "data": {
      "text/plain": [
       "2    5356\n",
       "6    3553\n",
       "1    2071\n",
       "9    1282\n",
       "0     348\n",
       "Name: RestaurantLessThan20, dtype: int64"
      ]
     },
     "execution_count": 104,
     "metadata": {},
     "output_type": "execute_result"
    }
   ],
   "source": [
    "RestaurantLessThan20_mapping = {\n",
    "    'less1': 1,\n",
    "    '1~3':2,\n",
    "    '4~8':6, \n",
    "    'gt8':9,\n",
    "    'never':0,\n",
    "    'Nothing':0\n",
    "};\n",
    "coupons_data['RestaurantLessThan20'] = coupons_data['RestaurantLessThan20'].map(RestaurantLessThan20_mapping);\n",
    "coupons_data[\"RestaurantLessThan20\"].value_counts() "
   ]
  },
  {
   "cell_type": "code",
   "execution_count": 105,
   "metadata": {},
   "outputs": [
    {
     "data": {
      "text/plain": [
       "less1      6041\n",
       "1~3        3266\n",
       "never      2122\n",
       "4~8         728\n",
       "gt8         264\n",
       "Nothing     189\n",
       "Name: Restaurant20To50, dtype: int64"
      ]
     },
     "execution_count": 105,
     "metadata": {},
     "output_type": "execute_result"
    }
   ],
   "source": [
    "#Restaurant20To50\n",
    "coupons_data[\"Restaurant20To50\"].value_counts() \n"
   ]
  },
  {
   "cell_type": "code",
   "execution_count": null,
   "metadata": {},
   "outputs": [],
   "source": [
    "RestaurantLessThan20_mapping = {\n",
    "    'less1': 1,\n",
    "    '1~3':2,\n",
    "    '4~8':6, \n",
    "    'gt8':9,\n",
    "    'never':0,\n",
    "    'Nothing':0\n",
    "};"
   ]
  },
  {
   "cell_type": "code",
   "execution_count": 107,
   "metadata": {},
   "outputs": [
    {
     "data": {
      "text/plain": [
       "1    6041\n",
       "2    3266\n",
       "0    2311\n",
       "6     728\n",
       "9     264\n",
       "Name: Restaurant20To50, dtype: int64"
      ]
     },
     "execution_count": 107,
     "metadata": {},
     "output_type": "execute_result"
    }
   ],
   "source": [
    "coupons_data['Restaurant20To50'] = coupons_data['Restaurant20To50'].map(RestaurantLessThan20_mapping);\n",
    "coupons_data[\"Restaurant20To50\"].value_counts() "
   ]
  },
  {
   "cell_type": "code",
   "execution_count": 125,
   "metadata": {},
   "outputs": [
    {
     "data": {
      "text/plain": [
       "Index(['destination', 'passanger', 'weather', 'temperature', 'time', 'coupon',\n",
       "       'expiration', 'gender', 'age', 'maritalStatus', 'has_children',\n",
       "       'education', 'occupation', 'income', 'Bar', 'CoffeeHouse', 'CarryAway',\n",
       "       'RestaurantLessThan20', 'Restaurant20To50', 'direction_same',\n",
       "       'direction_opp', 'Y', 'drive_to_coupon'],\n",
       "      dtype='object')"
      ]
     },
     "execution_count": 125,
     "metadata": {},
     "output_type": "execute_result"
    }
   ],
   "source": [
    "# Combine toCoupon_GEQ5min,toCoupon_GEQ15min,toCoupon_GEQ25min to drive_to_coupon column\n",
    "\n",
    "def column_to_coupon(col):\n",
    "    toCoupon_GEQ5min,toCoupon_GEQ15min,toCoupon_GEQ25min = list(map(str,col))\n",
    "    if toCoupon_GEQ5min == '1':\n",
    "        if toCoupon_GEQ15min=='1':\n",
    "            if toCoupon_GEQ25min=='1':\n",
    "                return 'within 25mins'\n",
    "            else:\n",
    "                return 'within 15mins'\n",
    "        else:\n",
    "            return 'within 5mins'\n",
    "coupons_data['drive_to_coupon'] = coupons_data[['toCoupon_GEQ5min','toCoupon_GEQ15min','toCoupon_GEQ25min']].apply(column_to_coupon,axis=1,raw=True)\n",
    "coupons_data=coupons_data.drop(['toCoupon_GEQ5min','toCoupon_GEQ15min','toCoupon_GEQ25min'],axis=1)\n",
    "coupons_data.columns\n"
   ]
  },
  {
   "cell_type": "markdown",
   "metadata": {},
   "source": [
    "4. What proportion of the total observations chose to accept the coupon? "
   ]
  },
  {
   "cell_type": "code",
   "execution_count": 208,
   "metadata": {},
   "outputs": [
    {
     "name": "stdout",
     "output_type": "stream",
     "text": [
      "Accepted percentage 56.75654242664552\n",
      "Not Accepted 43.24345757335448\n"
     ]
    },
    {
     "data": {
      "image/png": "[encoded data removed]",
      "text/plain": [
       "<Figure size 640x480 with 1 Axes>"
      ]
     },
     "metadata": {},
     "output_type": "display_data"
    }
   ],
   "source": [
    "#https://stackoverflow.com/a/71515035/2901002\n",
    "def autopct_format(values):\n",
    "        def my_format(pct):\n",
    "            total = sum(values)\n",
    "            val = int(round(pct*total/100.0))\n",
    "            return '{:.1f}%\\n({v:d})'.format(pct, v=val)\n",
    "        return my_format\n",
    "data=coupons_data[\"Y\"].value_counts()\n",
    "plt.pie(data, labels=['Accepted','Not Accepted'], autopct=autopct_format(data));\n",
    "\n",
    "print(f\"Accepted percentage {coupons_data.query('Y==1')['Y'].count()/coupons_data.shape[0]*100 }\")\n",
    "print(f\"Not Accepted {coupons_data.query('Y==0')['Y'].count()/coupons_data.shape[0]*100 }\")\n",
    "\n"
   ]
  },
  {
   "cell_type": "markdown",
   "metadata": {},
   "source": [
    "#### We have more data  that repesents coupon accepetance there is a possibility of imbalance"
   ]
  },
  {
   "cell_type": "markdown",
   "metadata": {},
   "source": [
    "5. Use a bar plot to visualize the `coupon` column."
   ]
  },
  {
   "cell_type": "code",
   "execution_count": 198,
   "metadata": {},
   "outputs": [
    {
     "data": {
      "text/html": [
       "<div>\n",
       "<style scoped>\n",
       "    .dataframe tbody tr th:only-of-type {\n",
       "        vertical-align: middle;\n",
       "    }\n",
       "\n",
       "    .dataframe tbody tr th {\n",
       "        vertical-align: top;\n",
       "    }\n",
       "\n",
       "    .dataframe thead th {\n",
       "        text-align: right;\n",
       "    }\n",
       "</style>\n",
       "<table border=\"1\" class=\"dataframe\">\n",
       "  <thead>\n",
       "    <tr style=\"text-align: right;\">\n",
       "      <th></th>\n",
       "      <th>coupon</th>\n",
       "      <th>count</th>\n",
       "    </tr>\n",
       "  </thead>\n",
       "  <tbody>\n",
       "    <tr>\n",
       "      <th>0</th>\n",
       "      <td>Coffee House</td>\n",
       "      <td>3989</td>\n",
       "    </tr>\n",
       "    <tr>\n",
       "      <th>1</th>\n",
       "      <td>Restaurant(&lt;20)</td>\n",
       "      <td>2779</td>\n",
       "    </tr>\n",
       "    <tr>\n",
       "      <th>2</th>\n",
       "      <td>Carry out &amp; Take away</td>\n",
       "      <td>2344</td>\n",
       "    </tr>\n",
       "    <tr>\n",
       "      <th>3</th>\n",
       "      <td>Bar</td>\n",
       "      <td>2010</td>\n",
       "    </tr>\n",
       "    <tr>\n",
       "      <th>4</th>\n",
       "      <td>Restaurant(20-50)</td>\n",
       "      <td>1488</td>\n",
       "    </tr>\n",
       "  </tbody>\n",
       "</table>\n",
       "</div>"
      ],
      "text/plain": [
       "                  coupon  count\n",
       "0           Coffee House   3989\n",
       "1        Restaurant(<20)   2779\n",
       "2  Carry out & Take away   2344\n",
       "3                    Bar   2010\n",
       "4      Restaurant(20-50)   1488"
      ]
     },
     "metadata": {},
     "output_type": "display_data"
    }
   ],
   "source": [
    "coupons_data_counts = coupons_data[[\"coupon\"]].value_counts().reset_index(name='count')\n",
    "display(coupons_data_counts)\n"
   ]
  },
  {
   "cell_type": "code",
   "execution_count": 199,
   "metadata": {
    "scrolled": true
   },
   "outputs": [
    {
     "data": {
      "image/png": "[encoded data removed]",
      "text/plain": [
       "<Figure size 1500x800 with 1 Axes>"
      ]
     },
     "metadata": {},
     "output_type": "display_data"
    }
   ],
   "source": [
    " \n",
    "f, ax = plt.subplots(figsize = (15,8))\n",
    "sns.set_color_codes('pastel')\n",
    "ax=sns.barplot(x = 'coupon', y = 'count', data = coupons_data_counts,\n",
    "               edgecolor = 'w')\n",
    "ax.bar_label(ax.containers[0])\n",
    "plt.title('Distribution of Coupon')\n",
    "plt.xticks(rotation = 90)\n",
    "plt.show()"
   ]
  },
  {
   "cell_type": "markdown",
   "metadata": {},
   "source": [
    "#### 1. Coffee House attribute has the most number of coupons in the dataset.  Restaurant(20-50) arrtibute has the least of the coupons. Data indicates that expensive restaurants  doesn't give out coupons in this dataset."
   ]
  },
  {
   "cell_type": "code",
   "execution_count": 200,
   "metadata": {},
   "outputs": [
    {
     "data": {
      "image/png": "[encoded data removed]",
      "text/plain": [
       "<Figure size 1500x800 with 1 Axes>"
      ]
     },
     "metadata": {},
     "output_type": "display_data"
    }
   ],
   "source": [
    "coupons_data_counts = coupons_data[[\"coupon\",\"Y\"]].value_counts().reset_index(name='count')\n",
    "f, ax = plt.subplots(figsize = (15,8))\n",
    "sns.set_color_codes('pastel')\n",
    "ax=sns.barplot(x = 'coupon', y = 'count', data = coupons_data_counts,\n",
    "               edgecolor = 'w',hue='Y')\n",
    "ax.bar_label(ax.containers[0])\n",
    "plt.title('Distribution of Coupon')\n",
    "plt.xticks(rotation = 90)\n",
    "plt.show()"
   ]
  },
  {
   "cell_type": "markdown",
   "metadata": {},
   "source": [
    "##### There is high number of non-acceptance of coupons among Restaurant(20-50). Restaurant(<20) have high percentage of coupon acceptance"
   ]
  },
  {
   "cell_type": "markdown",
   "metadata": {},
   "source": [
    "6. Use a histogram to visualize the temperature column."
   ]
  },
  {
   "cell_type": "code",
   "execution_count": 214,
   "metadata": {},
   "outputs": [
    {
     "data": {
      "image/png": "[encoded data removed]",
      "text/plain": [
       "<Figure size 640x480 with 1 Axes>"
      ]
     },
     "metadata": {},
     "output_type": "display_data"
    }
   ],
   "source": [
    "ax=temp_plt = sns.histplot(data=coupons_data[\"temperature\"])\n",
    "temp_plt.set(title=\"Temprature Histogram\", xlabel=\"Temperature Range\",ylabel='Number of coupons')\n",
    "ax.bar_label(ax.containers[0])\n",
    "plt.xticks(rotation = 90)\n",
    "plt.show()\n",
    " \n",
    "\n"
   ]
  },
  {
   "cell_type": "markdown",
   "metadata": {},
   "source": [
    "**Investigating the Bar Coupons**\n",
    "\n",
    "Now, we will lead you through an exploration of just the bar related coupons.  \n",
    "\n",
    "1. Create a new `DataFrame` that contains just the bar coupons.\n"
   ]
  },
  {
   "cell_type": "code",
   "execution_count": 309,
   "metadata": {},
   "outputs": [],
   "source": [
    "# create a new dataframe by selected only \"Bar\" coupon data from \"Coupon\" column\n",
    "coupons_bar = coupons_data[coupons_data[\"coupon\"] == \"Bar\"].reset_index()"
   ]
  },
  {
   "cell_type": "markdown",
   "metadata": {},
   "source": [
    "2. What proportion of bar coupons were accepted?\n"
   ]
  },
  {
   "cell_type": "code",
   "execution_count": 415,
   "metadata": {},
   "outputs": [
    {
     "name": "stdout",
     "output_type": "stream",
     "text": [
      "Accepted percentage for Bar Coupon 40.99502487562189\n"
     ]
    },
    {
     "data": {
      "image/png": "[encoded data removed]",
      "text/plain": [
       "<Figure size 640x480 with 1 Axes>"
      ]
     },
     "metadata": {},
     "output_type": "display_data"
    }
   ],
   "source": [
    "#https://stackoverflow.com/a/71515035/2901002\n",
    "def autopct_format(values):\n",
    "        def my_format(pct):\n",
    "            total = sum(values)\n",
    "            val = int(round(pct*total/100.0))\n",
    "            return '{:.1f}%\\n({v:d})'.format(pct, v=val)\n",
    "        return my_format\n",
    "data=coupons_bar[\"Y\"].value_counts()\n",
    "plt.pie(data, labels=['Not Accepted','Accepted'], autopct=autopct_format(data));\n",
    "print(f\"Accepted percentage for Bar Coupon {coupons_bar.query('Y==1')['Y'].count()/coupons_bar.shape[0]*100 }\")\n",
    " "
   ]
  },
  {
   "cell_type": "markdown",
   "metadata": {},
   "source": [
    "3. Compare the acceptance rate between those who went to a bar 3 or fewer times a month to those who went more.\n"
   ]
  },
  {
   "cell_type": "code",
   "execution_count": 311,
   "metadata": {},
   "outputs": [],
   "source": [
    "\n",
    "# We taking the average of the bar field to quatify their frequency\n",
    "bar_mapping = {\n",
    "    'less1': 1,\n",
    "    '1~3':2,\n",
    "    '4~8':6, \n",
    "    'gt8':9,\n",
    "    'never':0,\n",
    "    'Nothing':0\n",
    "}\n",
    "coupons_bar['Bar'] = coupons_bar['Bar'].map(bar_mapping)"
   ]
  },
  {
   "cell_type": "code",
   "execution_count": 417,
   "metadata": {},
   "outputs": [
    {
     "name": "stdout",
     "output_type": "stream",
     "text": [
      "Acceptance rate of those who went to a bar 3 or fewer times a month 33.38308457711443 \n",
      "Acceptance rate of those who went more than 3 times a month 7.611940298507462 \n"
     ]
    }
   ],
   "source": [
    "#Bar<=2 & Y==1\n",
    "#  acceptance rate between those who went to a bar 3 or fewer times a month \n",
    "(coupons_bar.query(\"Bar<=2 & Y==1\")['Bar'].count()/coupons_bar['Bar'].count())*100\n",
    "print(f\"Acceptance rate of those who went to a bar 3 or fewer times a month { (coupons_bar.query('Bar<=2 & Y==1')['Bar'].count()/coupons_bar['Bar'].count()) *100 } \")\n",
    "\n",
    "#  acceptance rate between those who went more than 3 times a month \n",
    "(coupons_bar.query(\"Bar>2 & Y==1\")['Bar'].count()/coupons_bar['Bar'].count())*100\n",
    "print(f\"Acceptance rate of those who went more than 3 times a month { (coupons_bar.query('Bar>2 & Y==1')['Bar'].count()/coupons_bar['Bar'].count()) *100 } \")"
   ]
  },
  {
   "cell_type": "markdown",
   "metadata": {},
   "source": [
    "4. Compare the acceptance rate between drivers who go to a bar more than once a month and are over the age of 25 to the all others.  Is there a difference?\n"
   ]
  },
  {
   "cell_type": "code",
   "execution_count": 314,
   "metadata": {},
   "outputs": [],
   "source": [
    "#(coupons_bar.query(\"Bar>=1 & age>25 & Y==1\")['Bar'].count()/coupons_bar['Bar'].count())*100\n",
    "age_mapping = {\n",
    "    '50plus': 51,\n",
    "    'below21':20,\n",
    "    '21':21,\n",
    "    '26':26,\n",
    "    '31':31,\n",
    "    '36':36,\n",
    "    '36':36,\n",
    "    '41':41,\n",
    "    '46':46\n",
    "}\n",
    "\n",
    "coupons_bar['age']=coupons_bar['age'].map(age_mapping)\n"
   ]
  },
  {
   "cell_type": "code",
   "execution_count": 365,
   "metadata": {},
   "outputs": [
    {
     "name": "stdout",
     "output_type": "stream",
     "text": [
      " Rate of acceptance for drivers who go to a bar more than once a month and are over the age of 25 :14.527363184079602\n",
      " Difference : 26.46766169154229\n"
     ]
    }
   ],
   "source": [
    "rate_above25=(coupons_bar.query(\"Bar>1 & Y==1 & age>25\")['Bar'].count()/coupons_bar['Bar'].count())*100\n",
    "print(f\" Rate of acceptance for drivers who go to a bar more than once a month and are over the age of 25 :{ rate_above25}\")\n",
    "\n",
    "rate_all = (coupons_bar.query(\"Y==1\")['Bar'].count()- coupons_bar.query(\"Bar>1 & Y==1 & age>25\")['Bar'].count()) /coupons_bar['Bar'].count() *100\n",
    "\n",
    "print(f\" Difference : { rate_all}\")\n"
   ]
  },
  {
   "cell_type": "markdown",
   "metadata": {},
   "source": [
    "5. Use the same process to compare the acceptance rate between drivers who go to bars more than once a month and had passengers that were not a kid and had occupations other than farming, fishing, or forestry. \n"
   ]
  },
  {
   "cell_type": "code",
   "execution_count": 376,
   "metadata": {},
   "outputs": [
    {
     "name": "stdout",
     "output_type": "stream",
     "text": [
      "Acceptance rate between drivers who go to bars more than once a month and had passengers that were not a kid and had occupations other than farming, fishing, or forestry: 19.55223880597015\n",
      "Difference: 21.442786069651742\n"
     ]
    }
   ],
   "source": [
    "\n",
    "ans=coupons_bar.query('passanger !=\"Kid(s)\" & Bar>1 & occupation != \"Farming Fishing & Forestry\" & Y==1')['Bar'].count()/coupons_bar['Bar'].count()*100\n",
    "print(f\"Acceptance rate between drivers who go to bars more than once a month and had passengers that were not a kid and had occupations other than farming, fishing, or forestry: {ans }\")\n",
    "ans_dif= (coupons_bar.query(\"Y==1\")['Bar'].count() - coupons_bar.query('passanger !=\"Kid(s)\" & Bar>1 & occupation != \"Farming Fishing & Forestry\" & Y==1')['Bar'].count() )\n",
    "print(f\"Difference: {ans_dif/coupons_bar['Bar'].count() *100}\")\n",
    " "
   ]
  },
  {
   "cell_type": "markdown",
   "metadata": {},
   "source": [
    "6. Compare the acceptance rates between those drivers who:\n",
    "\n",
    "- go to bars more than once a month, had passengers that were not a kid, and were not widowed *OR*\n",
    "- go to bars more than once a month and are under the age of 30 *OR*\n",
    "- go to cheap restaurants more than 4 times a month and income is less than 50K. \n",
    "\n"
   ]
  },
  {
   "cell_type": "code",
   "execution_count": 416,
   "metadata": {},
   "outputs": [
    {
     "data": {
      "text/html": [
       "<div>\n",
       "<style scoped>\n",
       "    .dataframe tbody tr th:only-of-type {\n",
       "        vertical-align: middle;\n",
       "    }\n",
       "\n",
       "    .dataframe tbody tr th {\n",
       "        vertical-align: top;\n",
       "    }\n",
       "\n",
       "    .dataframe thead th {\n",
       "        text-align: right;\n",
       "    }\n",
       "</style>\n",
       "<table border=\"1\" class=\"dataframe\">\n",
       "  <thead>\n",
       "    <tr style=\"text-align: right;\">\n",
       "      <th></th>\n",
       "      <th>Acceptance Rate</th>\n",
       "    </tr>\n",
       "  </thead>\n",
       "  <tbody>\n",
       "    <tr>\n",
       "      <th>bars&gt;1,Passengers No Kidand Not Widowed</th>\n",
       "      <td>71.324864</td>\n",
       "    </tr>\n",
       "    <tr>\n",
       "      <th>bars&gt;1 and Age&lt; 30</th>\n",
       "      <td>72.173913</td>\n",
       "    </tr>\n",
       "    <tr>\n",
       "      <th>cheap restaurants&gt;4 and income is less than 50K.</th>\n",
       "      <td>45.756458</td>\n",
       "    </tr>\n",
       "  </tbody>\n",
       "</table>\n",
       "</div>"
      ],
      "text/plain": [
       "                                                  Acceptance Rate\n",
       "bars>1,Passengers No Kidand Not Widowed                 71.324864\n",
       "bars>1 and Age< 30                                      72.173913\n",
       "cheap restaurants>4 and income is less than 50K.        45.756458"
      ]
     },
     "metadata": {},
     "output_type": "display_data"
    },
    {
     "data": {
      "image/png": "[encoded data removed]",
      "text/plain": [
       "<Figure size 800x400 with 1 Axes>"
      ]
     },
     "metadata": {},
     "output_type": "display_data"
    }
   ],
   "source": [
    "#Bar--> 1\n",
    "#passanger --> !Kid(s) \n",
    "#maritalStatus -->!Widowed\n",
    "#age<31\n",
    "#RestaurantLessThan20>4\n",
    "#income $12500 - $24999,$25000 - $37499,$37500 - $49999\n",
    "\n",
    "\n",
    "bar_condition =coupons_bar['Bar']> 1\n",
    "mariage_condition =coupons_bar['maritalStatus']!=\"Widowed\"\n",
    "passanger_condition=coupons_bar['passanger']!=\"Kid(s)\"\n",
    "age_condition=coupons_bar['age']<31\n",
    "restaturant_condition=coupons_bar['RestaurantLessThan20']>4\n",
    "income_condition=coupons_bar['income'].isin(['$12500 - $24999','$25000 - $37499','$37500 - $49999']) \n",
    "\n",
    "condition_1_dataframe = coupons_bar[bar_condition & passanger_condition & mariage_condition]\n",
    "condition_2_dataframe = coupons_bar[bar_condition & age_condition]\n",
    "condition_3_dataframe = coupons_bar[restaturant_condition & income_condition]\n",
    "dict_accpt_rate = {\n",
    "                    \n",
    "                    'Acceptance Rate' : [(condition_1_dataframe['Y'].mean()*100),(condition_2_dataframe['Y'].mean()*100),(condition_3_dataframe['Y'].mean()*100)]\n",
    "                    \n",
    "                   }\n",
    "\n",
    "\n",
    "accept_rate=pd.DataFrame(dict_accpt_rate,\n",
    "                                   index=[\"bars>1,Passengers No Kidand Not Widowed\",\"bars>1 and Age< 30 \",\"cheap restaurants>4 and income is less than 50K.\"])\n",
    "display(accept_rate)\n",
    "\n",
    "ax = accept_rate.plot(kind='barh', figsize=(8,4))\n",
    "\n",
    "ax.set_title('Percentage of Coupons \"Accepted\" by Bar Frequency, Age, Marriage Status, Kis  and Income')\n",
    "ax.set_xlabel('Percentage')\n",
    "ax.set_ylabel('')\n",
    "plt.show()"
   ]
  },
  {
   "cell_type": "markdown",
   "metadata": {},
   "source": [
    "7.  Based on these observations, what do you hypothesize about drivers who accepted the bar coupons?"
   ]
  },
  {
   "cell_type": "markdown",
   "metadata": {},
   "source": [
    "### Following are the hypothesize about drivers who accepted the bar coupons\n",
    "    - Bar coupon is not the popular among other coupons. It has only 41% accepetance rate\n",
    "    - Acceptance rate of those who went more than 3 times a month is 7%. It may means that they had bad experience\n",
    "      with the coupon deals"
   ]
  },
  {
   "cell_type": "markdown",
   "metadata": {},
   "source": [
    "### Independent Investigation\n",
    "\n",
    "Using the bar coupon example as motivation, you are to explore one of the other coupon groups and try to determine the characteristics of passengers who accept the coupons.  "
   ]
  },
  {
   "cell_type": "markdown",
   "metadata": {},
   "source": [
    "### 1) Do people with more income prefer expensive restraunts(Restaurant20To50) with bar coupon?"
   ]
  },
  {
   "cell_type": "code",
   "execution_count": 443,
   "metadata": {},
   "outputs": [
    {
     "data": {
      "image/png": "[encoded data removed]",
      "text/plain": [
       "<Figure size 1000x600 with 1 Axes>"
      ]
     },
     "metadata": {},
     "output_type": "display_data"
    }
   ],
   "source": [
    "\n",
    "temp = pd.DataFrame(coupons_bar.groupby(['income','Restaurant20To50']).size()).reset_index()\n",
    "temp.columns = ['income','Restaurant20To50','values']\n",
    "temp=temp.sort_values(by=['values'])\n",
    "# plotting\n",
    "plt.figure(figsize=(10,6))\n",
    "sns.barplot(x='income',y='values',hue='Restaurant20To50',data=temp)\n",
    "plt.xticks(rotation = 35,rotation_mode = \"anchor\",ha = \"right\")\n",
    "plt.ylabel(\"Count\")\n",
    "plt.title(\"Effect of Income ranges on frequency of going to expensive restraunts\")\n",
    "plt.legend(title=\"# times visited\",loc='upper right')\n",
    "plt.show()"
   ]
  },
  {
   "cell_type": "markdown",
   "metadata": {},
   "source": [
    "### ** From the graph above we can infer that most people within the income range above 100K goto expensive resutrants atleast once. People with incode range 37K-49K are highest among nine times or more vists with bar coupons."
   ]
  },
  {
   "cell_type": "markdown",
   "metadata": {},
   "source": [
    "### 2) Does age has impact with bar coupon?"
   ]
  },
  {
   "cell_type": "code",
   "execution_count": 449,
   "metadata": {},
   "outputs": [
    {
     "data": {
      "image/png": "[encoded data removed]",
      "text/plain": [
       "<Figure size 640x480 with 1 Axes>"
      ]
     },
     "metadata": {},
     "output_type": "display_data"
    }
   ],
   "source": [
    "ax=sns.countplot(x='age',data=coupons_bar,hue='Y')\n",
    "ax.bar_label(ax.containers[0])\n",
    "ax.bar_label(ax.containers[1]);"
   ]
  },
  {
   "cell_type": "markdown",
   "metadata": {},
   "source": [
    "### From the graph it is evident that people who are above 50 doesn't use the coupon and people who are in the age group 21 have the acceptence rate. Thus the coupon for the bar doesn't seems to be working well as folks are not keen on using coupons for bars"
   ]
  },
  {
   "cell_type": "code",
   "execution_count": null,
   "metadata": {},
   "outputs": [],
   "source": []
  }
 ],
 "metadata": {
  "kernelspec": {
   "display_name": "Python 3 (ipykernel)",
   "language": "python",
   "name": "python3"
  },
  "language_info": {
   "codemirror_mode": {
    "name": "ipython",
    "version": 3
   },
   "file_extension": ".py",
   "mimetype": "text/x-python",
   "name": "python",
   "nbconvert_exporter": "python",
   "pygments_lexer": "ipython3",
   "version": "3.9.13"
  },
  "widgets": {
   "application/vnd.jupyter.widget-state+json": {
    "state": {},
    "version_major": 2,
    "version_minor": 0
   }
  }
 },
 "nbformat": 4,
 "nbformat_minor": 4
}
